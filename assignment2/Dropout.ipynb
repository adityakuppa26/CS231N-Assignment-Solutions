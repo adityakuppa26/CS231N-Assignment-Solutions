{
  "nbformat": 4,
  "nbformat_minor": 0,
  "metadata": {
    "colab": {
      "name": "Dropout.ipynb",
      "provenance": [],
      "collapsed_sections": []
    },
    "kernelspec": {
      "name": "python3",
      "display_name": "Python 3"
    }
  },
  "cells": [
    {
      "cell_type": "code",
      "metadata": {
        "id": "-pEMP26bN7sF",
        "outputId": "8e1005a8-ea56-4720-dac8-b4ebac013302",
        "colab": {
          "base_uri": "https://localhost:8080/",
          "height": 72
        }
      },
      "source": [
        "# this mounts your Google Drive to the Colab VM.\n",
        "from google.colab import drive\n",
        "drive.mount('/content/drive', force_remount=True)\n",
        "\n",
        "# enter the foldername in your Drive where you have saved the unzipped\n",
        "# assignment folder, e.g. 'cs231n/assignments/assignment3/'\n",
        "FOLDERNAME = 'CS231n/assignment2/'\n",
        "assert FOLDERNAME is not None, \"[!] Enter the foldername.\"\n",
        "\n",
        "# now that we've mounted your Drive, this ensures that\n",
        "# the Python interpreter of the Colab VM can load\n",
        "# python files from within it.\n",
        "import sys\n",
        "sys.path.append('/content/drive/My Drive/{}'.format(FOLDERNAME))\n",
        "\n",
        "# this downloads the CIFAR-10 dataset to your Drive\n",
        "# if it doesn't already exist.\n",
        "%cd drive/My\\ Drive/$FOLDERNAME/cs231n/datasets/\n",
        "!bash get_datasets.sh\n",
        "%cd /content"
      ],
      "execution_count": 1,
      "outputs": [
        {
          "output_type": "stream",
          "text": [
            "Mounted at /content/drive\n",
            "/content/drive/My Drive/CS231n/assignment2/cs231n/datasets\n",
            "/content\n"
          ],
          "name": "stdout"
        }
      ]
    },
    {
      "cell_type": "markdown",
      "metadata": {
        "tags": [
          "pdf-title"
        ],
        "id": "kpYZX-iMN7sL"
      },
      "source": [
        "# Dropout\n",
        "Dropout [1] is a technique for regularizing neural networks by randomly setting some output activations to zero during the forward pass. In this exercise you will implement a dropout layer and modify your fully-connected network to optionally use dropout.\n",
        "\n",
        "[1] [Geoffrey E. Hinton et al, \"Improving neural networks by preventing co-adaptation of feature detectors\", arXiv 2012](https://arxiv.org/abs/1207.0580)"
      ]
    },
    {
      "cell_type": "code",
      "metadata": {
        "tags": [
          "pdf-ignore"
        ],
        "id": "o3-JHQYaN7sM",
        "outputId": "1497cfad-c455-4d32-8c4c-3d97215b220f",
        "colab": {
          "base_uri": "https://localhost:8080/",
          "height": 90
        }
      },
      "source": [
        "# As usual, a bit of setup\n",
        "from __future__ import print_function\n",
        "import time\n",
        "import numpy as np\n",
        "import matplotlib.pyplot as plt\n",
        "from cs231n.classifiers.fc_net import *\n",
        "from cs231n.data_utils import get_CIFAR10_data\n",
        "from cs231n.gradient_check import eval_numerical_gradient, eval_numerical_gradient_array\n",
        "from cs231n.solver import Solver\n",
        "\n",
        "%matplotlib inline\n",
        "plt.rcParams['figure.figsize'] = (10.0, 8.0) # set default size of plots\n",
        "plt.rcParams['image.interpolation'] = 'nearest'\n",
        "plt.rcParams['image.cmap'] = 'gray'\n",
        "\n",
        "# for auto-reloading external modules\n",
        "# see http://stackoverflow.com/questions/1907993/autoreload-of-modules-in-ipython\n",
        "%load_ext autoreload\n",
        "%autoreload 2\n",
        "\n",
        "def rel_error(x, y):\n",
        "  \"\"\" returns relative error \"\"\"\n",
        "  return np.max(np.abs(x - y) / (np.maximum(1e-8, np.abs(x) + np.abs(y))))"
      ],
      "execution_count": 2,
      "outputs": [
        {
          "output_type": "stream",
          "text": [
            "=========== You can safely ignore the message below if you are NOT working on ConvolutionalNetworks.ipynb ===========\n",
            "\tYou will need to compile a Cython extension for a portion of this assignment.\n",
            "\tThe instructions to do this will be given in a section of the notebook below.\n",
            "\tThere will be an option for Colab users and another for Jupyter (local) users.\n"
          ],
          "name": "stdout"
        }
      ]
    },
    {
      "cell_type": "code",
      "metadata": {
        "tags": [
          "pdf-ignore"
        ],
        "id": "cWZsY6_QN7sR",
        "outputId": "d106fcf0-d721-4607-ead3-3718bb277de2",
        "colab": {
          "base_uri": "https://localhost:8080/",
          "height": 126
        }
      },
      "source": [
        "# Load the (preprocessed) CIFAR10 data.\n",
        "\n",
        "data = get_CIFAR10_data()\n",
        "for k, v in data.items():\n",
        "  print('%s: ' % k, v.shape)"
      ],
      "execution_count": 3,
      "outputs": [
        {
          "output_type": "stream",
          "text": [
            "X_train:  (49000, 3, 32, 32)\n",
            "y_train:  (49000,)\n",
            "X_val:  (1000, 3, 32, 32)\n",
            "y_val:  (1000,)\n",
            "X_test:  (1000, 3, 32, 32)\n",
            "y_test:  (1000,)\n"
          ],
          "name": "stdout"
        }
      ]
    },
    {
      "cell_type": "markdown",
      "metadata": {
        "id": "RKHwK3RBN7sW"
      },
      "source": [
        "# Dropout forward pass\n",
        "In the file `cs231n/layers.py`, implement the forward pass for dropout. Since dropout behaves differently during training and testing, make sure to implement the operation for both modes.\n",
        "\n",
        "Once you have done so, run the cell below to test your implementation."
      ]
    },
    {
      "cell_type": "code",
      "metadata": {
        "id": "H7gyha7mN7sX",
        "outputId": "27583c56-402e-4ebb-f171-8a3aafb87d35",
        "colab": {
          "base_uri": "https://localhost:8080/",
          "height": 399
        }
      },
      "source": [
        "np.random.seed(231)\n",
        "x = np.random.randn(500, 500) + 10\n",
        "\n",
        "for p in [0.25, 0.4, 0.7]:\n",
        "  out, _ = dropout_forward(x, {'mode': 'train', 'p': p})\n",
        "  out_test, _ = dropout_forward(x, {'mode': 'test', 'p': p})\n",
        "\n",
        "  print('Running tests with p = ', p)\n",
        "  print('Mean of input: ', x.mean())\n",
        "  print('Mean of train-time output: ', out.mean())\n",
        "  print('Mean of test-time output: ', out_test.mean())\n",
        "  print('Fraction of train-time output set to zero: ', (out == 0).mean())\n",
        "  print('Fraction of test-time output set to zero: ', (out_test == 0).mean())\n",
        "  print()"
      ],
      "execution_count": 4,
      "outputs": [
        {
          "output_type": "stream",
          "text": [
            "Running tests with p =  0.25\n",
            "Mean of input:  10.000207878477502\n",
            "Mean of train-time output:  10.014059116977283\n",
            "Mean of test-time output:  10.000207878477502\n",
            "Fraction of train-time output set to zero:  0.749784\n",
            "Fraction of test-time output set to zero:  0.0\n",
            "\n",
            "Running tests with p =  0.4\n",
            "Mean of input:  10.000207878477502\n",
            "Mean of train-time output:  9.977917658761159\n",
            "Mean of test-time output:  10.000207878477502\n",
            "Fraction of train-time output set to zero:  0.600796\n",
            "Fraction of test-time output set to zero:  0.0\n",
            "\n",
            "Running tests with p =  0.7\n",
            "Mean of input:  10.000207878477502\n",
            "Mean of train-time output:  9.987811912159426\n",
            "Mean of test-time output:  10.000207878477502\n",
            "Fraction of train-time output set to zero:  0.30074\n",
            "Fraction of test-time output set to zero:  0.0\n",
            "\n"
          ],
          "name": "stdout"
        }
      ]
    },
    {
      "cell_type": "markdown",
      "metadata": {
        "id": "f9SoQuaKN7sc"
      },
      "source": [
        "# Dropout backward pass\n",
        "In the file `cs231n/layers.py`, implement the backward pass for dropout. After doing so, run the following cell to numerically gradient-check your implementation."
      ]
    },
    {
      "cell_type": "code",
      "metadata": {
        "id": "NJP2MVRZN7sd",
        "outputId": "ebcf2587-96bc-4423-83a7-7205331bd37d",
        "colab": {
          "base_uri": "https://localhost:8080/",
          "height": 35
        }
      },
      "source": [
        "np.random.seed(231)\n",
        "x = np.random.randn(10, 10) + 10\n",
        "dout = np.random.randn(*x.shape)\n",
        "\n",
        "dropout_param = {'mode': 'train', 'p': 0.2, 'seed': 123}\n",
        "out, cache = dropout_forward(x, dropout_param)\n",
        "dx = dropout_backward(dout, cache)\n",
        "dx_num = eval_numerical_gradient_array(lambda xx: dropout_forward(xx, dropout_param)[0], x, dout)\n",
        "\n",
        "# Error should be around e-10 or less\n",
        "print('dx relative error: ', rel_error(dx, dx_num))"
      ],
      "execution_count": 5,
      "outputs": [
        {
          "output_type": "stream",
          "text": [
            "dx relative error:  5.44560814873387e-11\n"
          ],
          "name": "stdout"
        }
      ]
    },
    {
      "cell_type": "markdown",
      "metadata": {
        "tags": [
          "pdf-inline"
        ],
        "id": "iNL7V-SPN7sj"
      },
      "source": [
        "## Inline Question 1:\n",
        "What happens if we do not divide the values being passed through inverse dropout by `p` in the dropout layer? Why does that happen?\n",
        "\n",
        "## Answer:\n",
        "During training, we divide by p in an inverted dropout to scale the network, as few of the units were dropped from it due to  dropout. If we do no scale the network, the network we use at test time (which is a full network with no dropout) would be more complex, leading to outputs different from the training network. Division by p ensures the training network that though it effectively has a lower number of network units, its ability has been leveraged to compete with the original full network.  \n"
      ]
    },
    {
      "cell_type": "markdown",
      "metadata": {
        "id": "AxpVrF7fN7sk"
      },
      "source": [
        "# Fully-connected nets with Dropout\n",
        "In the file `cs231n/classifiers/fc_net.py`, modify your implementation to use dropout. Specifically, if the constructor of the network receives a value that is not 1 for the `dropout` parameter, then the net should add a dropout layer immediately after every ReLU nonlinearity. After doing so, run the following to numerically gradient-check your implementation."
      ]
    },
    {
      "cell_type": "code",
      "metadata": {
        "id": "wEvqSVnwN7sl",
        "outputId": "56de5c05-9661-40e4-ac40-a0dd4626fa11",
        "colab": {
          "base_uri": "https://localhost:8080/",
          "height": 508
        }
      },
      "source": [
        "np.random.seed(231)\n",
        "N, D, H1, H2, C = 2, 15, 20, 30, 10\n",
        "X = np.random.randn(N, D)\n",
        "y = np.random.randint(C, size=(N,))\n",
        "\n",
        "for dropout in [1, 0.75, 0.5]:\n",
        "  print('Running check with dropout = ', dropout)\n",
        "  model = FullyConnectedNet([H1, H2], input_dim=D, num_classes=C,\n",
        "                            weight_scale=5e-2, dtype=np.float64,\n",
        "                            dropout=dropout, seed=123)\n",
        "\n",
        "  loss, grads = model.loss(X, y)\n",
        "  print('Initial loss: ', loss)\n",
        "  \n",
        "  # Relative errors should be around e-6 or less; Note that it's fine\n",
        "  # if for dropout=1 you have W2 error be on the order of e-5.\n",
        "  for name in sorted(grads):\n",
        "    f = lambda _: model.loss(X, y)[0]\n",
        "    grad_num = eval_numerical_gradient(f, model.params[name], verbose=False, h=1e-5)\n",
        "    print('%s relative error: %.2e' % (name, rel_error(grad_num, grads[name])))\n",
        "  print()"
      ],
      "execution_count": 6,
      "outputs": [
        {
          "output_type": "stream",
          "text": [
            "Running check with dropout =  1\n",
            "Initial loss:  2.3004790897684924\n",
            "W1 relative error: 1.48e-07\n",
            "W2 relative error: 2.21e-05\n",
            "W3 relative error: 3.53e-07\n",
            "b1 relative error: 5.38e-09\n",
            "b2 relative error: 2.09e-09\n",
            "b3 relative error: 5.80e-11\n",
            "\n",
            "Running check with dropout =  0.75\n",
            "Initial loss:  2.302371489704412\n",
            "W1 relative error: 1.90e-07\n",
            "W2 relative error: 4.76e-06\n",
            "W3 relative error: 2.60e-08\n",
            "b1 relative error: 4.73e-09\n",
            "b2 relative error: 1.82e-09\n",
            "b3 relative error: 1.70e-10\n",
            "\n",
            "Running check with dropout =  0.5\n",
            "Initial loss:  2.3042759220785896\n",
            "W1 relative error: 3.11e-07\n",
            "W2 relative error: 1.84e-08\n",
            "W3 relative error: 5.35e-08\n",
            "b1 relative error: 5.37e-09\n",
            "b2 relative error: 2.99e-09\n",
            "b3 relative error: 1.13e-10\n",
            "\n"
          ],
          "name": "stdout"
        }
      ]
    },
    {
      "cell_type": "markdown",
      "metadata": {
        "id": "mswicgg7N7sq"
      },
      "source": [
        "# Regularization experiment\n",
        "As an experiment, we will train a pair of two-layer networks on 500 training examples: one will use no dropout, and one will use a keep probability of 0.25. We will then visualize the training and validation accuracies of the two networks over time."
      ]
    },
    {
      "cell_type": "code",
      "metadata": {
        "scrolled": false,
        "id": "DlYzlRMAN7ss",
        "outputId": "cfa3a7ab-5cb9-42c6-fcb2-3e47408dd0bd",
        "colab": {
          "base_uri": "https://localhost:8080/",
          "height": 1000
        }
      },
      "source": [
        "# Train two identical nets, one with dropout and one without\n",
        "np.random.seed(231)\n",
        "num_train = 500\n",
        "small_data = {\n",
        "  'X_train': data['X_train'][:num_train],\n",
        "  'y_train': data['y_train'][:num_train],\n",
        "  'X_val': data['X_val'],\n",
        "  'y_val': data['y_val'],\n",
        "}\n",
        "\n",
        "solvers = {}\n",
        "dropout_choices = [1, 0.25]\n",
        "for dropout in dropout_choices:\n",
        "  model = FullyConnectedNet([500], dropout=dropout)\n",
        "  print(dropout)\n",
        "\n",
        "  solver = Solver(model, small_data,\n",
        "                  num_epochs=25, batch_size=100,\n",
        "                  update_rule='adam',\n",
        "                  optim_config={\n",
        "                    'learning_rate': 5e-4,\n",
        "                  },\n",
        "                  verbose=True, print_every=100)\n",
        "  solver.train()\n",
        "  solvers[dropout] = solver\n",
        "  print()"
      ],
      "execution_count": 7,
      "outputs": [
        {
          "output_type": "stream",
          "text": [
            "1\n",
            "(Iteration 1 / 125) loss: 7.856643\n",
            "(Epoch 0 / 25) train acc: 0.260000; val_acc: 0.184000\n",
            "(Epoch 1 / 25) train acc: 0.416000; val_acc: 0.258000\n",
            "(Epoch 2 / 25) train acc: 0.482000; val_acc: 0.276000\n",
            "(Epoch 3 / 25) train acc: 0.532000; val_acc: 0.277000\n",
            "(Epoch 4 / 25) train acc: 0.600000; val_acc: 0.271000\n",
            "(Epoch 5 / 25) train acc: 0.708000; val_acc: 0.299000\n",
            "(Epoch 6 / 25) train acc: 0.722000; val_acc: 0.282000\n",
            "(Epoch 7 / 25) train acc: 0.832000; val_acc: 0.255000\n",
            "(Epoch 8 / 25) train acc: 0.878000; val_acc: 0.269000\n",
            "(Epoch 9 / 25) train acc: 0.902000; val_acc: 0.275000\n",
            "(Epoch 10 / 25) train acc: 0.888000; val_acc: 0.261000\n",
            "(Epoch 11 / 25) train acc: 0.926000; val_acc: 0.278000\n",
            "(Epoch 12 / 25) train acc: 0.960000; val_acc: 0.302000\n",
            "(Epoch 13 / 25) train acc: 0.964000; val_acc: 0.306000\n",
            "(Epoch 14 / 25) train acc: 0.966000; val_acc: 0.309000\n",
            "(Epoch 15 / 25) train acc: 0.976000; val_acc: 0.288000\n",
            "(Epoch 16 / 25) train acc: 0.988000; val_acc: 0.302000\n",
            "(Epoch 17 / 25) train acc: 0.988000; val_acc: 0.311000\n",
            "(Epoch 18 / 25) train acc: 0.992000; val_acc: 0.313000\n",
            "(Epoch 19 / 25) train acc: 0.990000; val_acc: 0.313000\n",
            "(Epoch 20 / 25) train acc: 0.988000; val_acc: 0.312000\n",
            "(Iteration 101 / 125) loss: 0.130793\n",
            "(Epoch 21 / 25) train acc: 0.992000; val_acc: 0.300000\n",
            "(Epoch 22 / 25) train acc: 0.982000; val_acc: 0.305000\n",
            "(Epoch 23 / 25) train acc: 0.982000; val_acc: 0.300000\n",
            "(Epoch 24 / 25) train acc: 0.996000; val_acc: 0.305000\n",
            "(Epoch 25 / 25) train acc: 0.996000; val_acc: 0.296000\n",
            "\n",
            "0.25\n",
            "(Iteration 1 / 125) loss: 17.318478\n",
            "(Epoch 0 / 25) train acc: 0.230000; val_acc: 0.177000\n",
            "(Epoch 1 / 25) train acc: 0.378000; val_acc: 0.243000\n",
            "(Epoch 2 / 25) train acc: 0.402000; val_acc: 0.254000\n",
            "(Epoch 3 / 25) train acc: 0.502000; val_acc: 0.276000\n",
            "(Epoch 4 / 25) train acc: 0.528000; val_acc: 0.298000\n",
            "(Epoch 5 / 25) train acc: 0.562000; val_acc: 0.297000\n",
            "(Epoch 6 / 25) train acc: 0.626000; val_acc: 0.290000\n",
            "(Epoch 7 / 25) train acc: 0.628000; val_acc: 0.298000\n",
            "(Epoch 8 / 25) train acc: 0.686000; val_acc: 0.310000\n",
            "(Epoch 9 / 25) train acc: 0.722000; val_acc: 0.289000\n",
            "(Epoch 10 / 25) train acc: 0.724000; val_acc: 0.300000\n",
            "(Epoch 11 / 25) train acc: 0.760000; val_acc: 0.305000\n",
            "(Epoch 12 / 25) train acc: 0.772000; val_acc: 0.278000\n",
            "(Epoch 13 / 25) train acc: 0.818000; val_acc: 0.306000\n",
            "(Epoch 14 / 25) train acc: 0.816000; val_acc: 0.339000\n",
            "(Epoch 15 / 25) train acc: 0.854000; val_acc: 0.351000\n",
            "(Epoch 16 / 25) train acc: 0.832000; val_acc: 0.296000\n",
            "(Epoch 17 / 25) train acc: 0.854000; val_acc: 0.288000\n",
            "(Epoch 18 / 25) train acc: 0.846000; val_acc: 0.320000\n",
            "(Epoch 19 / 25) train acc: 0.872000; val_acc: 0.344000\n",
            "(Epoch 20 / 25) train acc: 0.868000; val_acc: 0.305000\n",
            "(Iteration 101 / 125) loss: 5.472650\n",
            "(Epoch 21 / 25) train acc: 0.866000; val_acc: 0.329000\n",
            "(Epoch 22 / 25) train acc: 0.902000; val_acc: 0.308000\n",
            "(Epoch 23 / 25) train acc: 0.898000; val_acc: 0.312000\n",
            "(Epoch 24 / 25) train acc: 0.914000; val_acc: 0.333000\n",
            "(Epoch 25 / 25) train acc: 0.916000; val_acc: 0.323000\n",
            "\n"
          ],
          "name": "stdout"
        }
      ]
    },
    {
      "cell_type": "code",
      "metadata": {
        "id": "JYpAnjLpN7sx",
        "outputId": "58986be4-9ffe-4b73-e024-a9b564d50ed8",
        "colab": {
          "base_uri": "https://localhost:8080/",
          "height": 606
        }
      },
      "source": [
        "# Plot train and validation accuracies of the two models\n",
        "\n",
        "train_accs = []\n",
        "val_accs = []\n",
        "for dropout in dropout_choices:\n",
        "  solver = solvers[dropout]\n",
        "  train_accs.append(solver.train_acc_history[-1])\n",
        "  val_accs.append(solver.val_acc_history[-1])\n",
        "\n",
        "plt.subplot(3, 1, 1)\n",
        "for dropout in dropout_choices:\n",
        "  plt.plot(solvers[dropout].train_acc_history, 'o', label='%.2f dropout' % dropout)\n",
        "plt.title('Train accuracy')\n",
        "plt.xlabel('Epoch')\n",
        "plt.ylabel('Accuracy')\n",
        "plt.legend(ncol=2, loc='lower right')\n",
        "  \n",
        "plt.subplot(3, 1, 2)\n",
        "for dropout in dropout_choices:\n",
        "  plt.plot(solvers[dropout].val_acc_history, 'o', label='%.2f dropout' % dropout)\n",
        "plt.title('Val accuracy')\n",
        "plt.xlabel('Epoch')\n",
        "plt.ylabel('Accuracy')\n",
        "plt.legend(ncol=2, loc='lower right')\n",
        "\n",
        "plt.gcf().set_size_inches(15, 15)\n",
        "plt.show()"
      ],
      "execution_count": 8,
      "outputs": [
        {
          "output_type": "display_data",
          "data": {
            "image/png": "[encoded data removed]",
            "text/plain": [
              "<Figure size 1080x1080 with 2 Axes>"
            ]
          },
          "metadata": {
            "tags": [],
            "needs_background": "light"
          }
        }
      ]
    },
    {
      "cell_type": "markdown",
      "metadata": {
        "tags": [
          "pdf-inline"
        ],
        "id": "Pn4jizxRN7s2"
      },
      "source": [
        "## Inline Question 2:\n",
        "Compare the validation and training accuracies with and without dropout -- what do your results suggest about dropout as a regularizer?\n",
        "\n",
        "## Answer:\n",
        "The network with no dropout clearly overfits the training data and performs poorly at generalization whereas the network with dropout has a better generalizing ability (greater val acc.) though it has lower training acc (which shows that it hasn't overfit the training data). Thus, dropout acts as a regularizer, reducing the gap between the training acc. and validation acc. letting both the values be reasonable high at the same time.\n"
      ]
    },
    {
      "cell_type": "markdown",
      "metadata": {
        "tags": [
          "pdf-inline"
        ],
        "id": "4pjrzB5lN7s4"
      },
      "source": [
        "## Inline Question 3:\n",
        "Suppose we are training a deep fully-connected network for image classification, with dropout after hidden layers (parameterized by keep probability p). If we are concerned about overfitting, how should we modify p (if at all) when we decide to decrease the size of the hidden layers (that is, the number of nodes in each layer)?\n",
        "\n",
        "## Answer:\n",
        "It depends on how much we are reducing its size.But in general, we need not modify the p value because it is a probability value. To expand, if p=0.5 and we have 1000 units, after dropout we would have 500, which performs well. Now suppose we reduce the no. of units to 500 we would drop 250 of them. Now if the validation performance of the 250 net plummets significantly, it is a sign of underfitting and we might want to increase the p value (assuming it is the keeping probability), but if the 250 net performs as well, then we need not alter the p value. \n"
      ]
    }
  ]
}